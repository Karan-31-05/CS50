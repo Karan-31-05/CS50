{
  "nbformat": 4,
  "nbformat_minor": 0,
  "metadata": {
    "colab": {
      "provenance": [],
      "authorship_tag": "ABX9TyN6GFONWodd9qunaOX+F9rJ",
      "include_colab_link": true
    },
    "kernelspec": {
      "name": "python3",
      "display_name": "Python 3"
    },
    "language_info": {
      "name": "python"
    }
  },
  "cells": [
    {
      "cell_type": "markdown",
      "metadata": {
        "id": "view-in-github",
        "colab_type": "text"
      },
      "source": [
        "<a href=\"https://colab.research.google.com/github/Karan-31-05/CS50/blob/main/mar-12/2.ipynb\" target=\"_parent\"><img src=\"https://colab.research.google.com/assets/colab-badge.svg\" alt=\"Open In Colab\"/></a>"
      ]
    },
    {
      "cell_type": "code",
      "execution_count": null,
      "metadata": {
        "colab": {
          "base_uri": "https://localhost:8080/"
        },
        "id": "L4bQPrfA_T-p",
        "outputId": "a7a24ce6-5239-4bbf-8520-e1b152b33e0f"
      },
      "outputs": [
        {
          "output_type": "stream",
          "name": "stdout",
          "text": [
            "Collecting deep-translator\n",
            "  Downloading deep_translator-1.11.4-py3-none-any.whl.metadata (30 kB)\n",
            "Requirement already satisfied: beautifulsoup4<5.0.0,>=4.9.1 in /usr/local/lib/python3.11/dist-packages (from deep-translator) (4.13.3)\n",
            "Requirement already satisfied: requests<3.0.0,>=2.23.0 in /usr/local/lib/python3.11/dist-packages (from deep-translator) (2.32.3)\n",
            "Requirement already satisfied: soupsieve>1.2 in /usr/local/lib/python3.11/dist-packages (from beautifulsoup4<5.0.0,>=4.9.1->deep-translator) (2.6)\n",
            "Requirement already satisfied: typing-extensions>=4.0.0 in /usr/local/lib/python3.11/dist-packages (from beautifulsoup4<5.0.0,>=4.9.1->deep-translator) (4.12.2)\n",
            "Requirement already satisfied: charset-normalizer<4,>=2 in /usr/local/lib/python3.11/dist-packages (from requests<3.0.0,>=2.23.0->deep-translator) (3.4.1)\n",
            "Requirement already satisfied: idna<4,>=2.5 in /usr/local/lib/python3.11/dist-packages (from requests<3.0.0,>=2.23.0->deep-translator) (3.10)\n",
            "Requirement already satisfied: urllib3<3,>=1.21.1 in /usr/local/lib/python3.11/dist-packages (from requests<3.0.0,>=2.23.0->deep-translator) (2.3.0)\n",
            "Requirement already satisfied: certifi>=2017.4.17 in /usr/local/lib/python3.11/dist-packages (from requests<3.0.0,>=2.23.0->deep-translator) (2025.1.31)\n",
            "Downloading deep_translator-1.11.4-py3-none-any.whl (42 kB)\n",
            "\u001b[?25l   \u001b[90m━━━━━━━━━━━━━━━━━━━━━━━━━━━━━━━━━━━━━━━━\u001b[0m \u001b[32m0.0/42.3 kB\u001b[0m \u001b[31m?\u001b[0m eta \u001b[36m-:--:--\u001b[0m\r\u001b[2K   \u001b[90m━━━━━━━━━━━━━━━━━━━━━━━━━━━━━━━━━━━━━━━━\u001b[0m \u001b[32m42.3/42.3 kB\u001b[0m \u001b[31m2.1 MB/s\u001b[0m eta \u001b[36m0:00:00\u001b[0m\n",
            "\u001b[?25hInstalling collected packages: deep-translator\n",
            "Successfully installed deep-translator-1.11.4\n"
          ]
        }
      ],
      "source": [
        "!pip install deep-translator\n"
      ]
    },
    {
      "cell_type": "markdown",
      "source": [],
      "metadata": {
        "id": "GGzVyn2u_iqw"
      }
    },
    {
      "cell_type": "code",
      "source": [
        "from deep_translator import GoogleTranslatorranslated_result = translate_text(user_text, user_lang)\n",
        "\n",
        "# Define the translator function\n",
        "def translate_text(text, target_language):\n",
        "    translator = GoogleTranslator(source='auto', target=target_language)\n",
        "    translated_text = translator.translate(text)\n",
        "    return translated_text\n",
        "\n",
        "# Example Usage\n",
        "input_text = \"Hello, how are you?\"\n",
        "target_lang = \"fr\"  # French\n",
        "\n",
        "translated_text = translate_text(input_text, target_lang)\n",
        "print(f\"Translated Text: {translated_text}\")ranslated_result = translate_text(user_text, user_lang)\n"
      ],
      "metadata": {
        "colab": {
          "base_uri": "https://localhost:8080/"
        },
        "id": "4Q00-KKrAhPW",
        "outputId": "79132e40-b56e-47ac-99fb-5c9042c58c22"
      },
      "execution_count": null,
      "outputs": [
        {
          "output_type": "stream",
          "name": "stdout",
          "text": [
            "Translated Text: Bonjour comment allez-vous?\n"
          ]
        }
      ]
    },
    {
      "cell_type": "code",
      "source": [
        "languages = [\"es\", \"fr\", \"de\", \"hi\"]  # Spanish, French, German, Hindi\n",
        "text = \"Good morning! Have a great day.\"\n",
        "\n",
        "for lang in languages:\n",
        "    translated = translate_text(text, lang)\n",
        "    print(f\"{lang.upper()} Translation: {translated}\")\n"
      ],
      "metadata": {
        "colab": {
          "base_uri": "https://localhost:8080/"
        },
        "id": "pTbnSeubAkFs",
        "outputId": "94fd8b7d-08e0-4f15-d710-5b52bb394ad8"
      },
      "execution_count": null,
      "outputs": [
        {
          "output_type": "stream",
          "name": "stdout",
          "text": [
            "ES Translation: ¡Buen día! Qué tengas un lindo día.\n",
            "FR Translation: Bonjour! Passe une bonne journée.\n",
            "DE Translation: Guten Morgen! Ich wünsche ihnen einen wunderbaren Tag.\n",
            "HI Translation: शुभ प्रभात! आपका दिन अच्छा रहे।\n"
          ]
        }
      ]
    },
    {
      "cell_type": "code",
      "source": [
        "# User input translator\n",
        "user_text = input(\"Enter text to translate: \")\n",
        "user_lang = input(\"Enter target language (e.g., 'es' for Spanish, 'fr' for French): \")\n",
        "\n",
        "translated_result = translate_text(user_text, user_lang)\n",
        "print(f\"Translated Text: {translated_result}\")"
      ],
      "metadata": {
        "colab": {
          "base_uri": "https://localhost:8080/"
        },
        "id": "YrdtWEUpAq1d",
        "outputId": "1b36574d-6056-4fa7-caf8-2fd8afe11d97"
      },
      "execution_count": null,
      "outputs": [
        {
          "output_type": "stream",
          "name": "stdout",
          "text": [
            "Enter text to translate: Zoro\n",
            "Enter target language (e.g., 'es' for Spanish, 'fr' for French): ja\n",
            "Translated Text: ゾロ\n"
          ]
        }
      ]
    },
    {
      "cell_type": "code",
      "source": [],
      "metadata": {
        "id": "Qj_twskZBQz0"
      },
      "execution_count": null,
      "outputs": []
    }
  ]
}